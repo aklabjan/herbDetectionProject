{
 "cells": [
  {
   "cell_type": "code",
   "execution_count": null,
   "id": "cbfffb2a-738c-477f-a6e7-e5b3e6722a98",
   "metadata": {},
   "outputs": [],
   "source": [
    "import matplotlib.pyplot as plt\n",
    "import math\n",
    "import numpy as np\n",
    "import keras_ocr\n",
    "import cv2\n",
    "import os\n",
    "import skimage.io\n",
    "from skimage import measure"
   ]
  },
  {
   "cell_type": "code",
   "execution_count": null,
   "id": "578764d1-cce5-4877-9c8f-0a22a70618b4",
   "metadata": {},
   "outputs": [],
   "source": [
    "def midpoint(x1, y1, x2, y2):\n",
    "    x_mid = int((x1 + x2)/2)\n",
    "    y_mid = int((y1 + y2)/2)\n",
    "    return (x_mid, y_mid)\n",
    "pipeline = keras_ocr.pipeline.Pipeline()\n",
    "\n",
    "def remove_text(img_path, pipeline):\n",
    "    # read image\n",
    "    img = keras_ocr.tools.read(img_path)\n",
    "    # generate (word, box) tuples \n",
    "    prediction_groups = pipeline.recognize([img])\n",
    "    mask = np.zeros(img.shape[:2], dtype=\"uint8\")\n",
    "    for box in prediction_groups[0]:\n",
    "        x0, y0 = box[1][0]\n",
    "        x1, y1 = box[1][1] \n",
    "        x2, y2 = box[1][2]\n",
    "        x3, y3 = box[1][3] \n",
    "        \n",
    "        x_mid0, y_mid0 = midpoint(x1, y1, x2, y2)\n",
    "        x_mid1, y_mi1 = midpoint(x0, y0, x3, y3)\n",
    "        \n",
    "        thickness = int(math.sqrt( (x2 - x1)**2 + (y2 - y1)**2 ))\n",
    "        \n",
    "        cv2.line(mask, (x_mid0, y_mid0), (x_mid1, y_mi1), 255,    \n",
    "        thickness)\n",
    "        img = cv2.inpaint(img, mask, 7, cv2.INPAINT_NS)\n",
    "                 \n",
    "    return(img)"
   ]
  },
  {
   "cell_type": "code",
   "execution_count": null,
   "id": "75d3cc48-d62b-48d4-96e8-eac25c5994a1",
   "metadata": {},
   "outputs": [],
   "source": [
    "#create images without words\n",
    "directory = \"images/segmentationImages\"\n",
    "pipeline = keras_ocr.pipeline.Pipeline()\n",
    "for photo_file in os.listdir(directory):\n",
    "    if photo_file.startswith(\"img\"):\n",
    "        path = os.path.join(directory,photo_file,\"input.png\")\n",
    "        img = remove_text(path,pipeline)  #returned image is inverted\n",
    "        img_rgb = cv2.cvtColor(img, cv2.COLOR_BGR2RGB) #convert to RGB\n",
    "        out_path = os.path.join(directory,photo_file,\"noWordsOuput.png\")\n",
    "        cv2.imwrite(out_path,img_rgb)"
   ]
  },
  {
   "cell_type": "code",
   "execution_count": null,
   "id": "69357e06-42a6-4aa0-9ee7-8c11a71d4fc1",
   "metadata": {},
   "outputs": [],
   "source": [
    "def get_properties(img_path):\n",
    "    # Load image\n",
    "    img = skimage.io.imread(img_path)\n",
    "    # Convert to binary image\n",
    "    bwimg = img > skimage.filters.threshold_otsu(img)\n",
    "    # Compute region properties\n",
    "    stats = measure.regionprops(bwimg)\n",
    "\n",
    "    return stats\n",
    "\n",
    "def annotate_center(img_path, stats, out_path):\n",
    "    fig, ax = plt.subplots()\n",
    "    ax.imshow(img_path)\n",
    "    for obj in stats:\n",
    "        y, x = obj.centroid\n",
    "        ax.plot(x, y, 'ro')\n",
    "    plt.save_fig(out_path)"
   ]
  },
  {
   "cell_type": "code",
   "execution_count": null,
   "id": "98544ea1",
   "metadata": {},
   "outputs": [],
   "source": [
    "#annotate center\n",
    "directory = \"images/segmentationImages\"\n",
    "for photo_file in os.listdir(directory):\n",
    "    if photo_file.startswith(\"img\"):\n",
    "        img_path = os.path.join(directory,photo_file,\"noWordsOuput.png\")\n",
    "        stats = get_properties(img_path)\n",
    "        out_path = os.path.join(directory,photo_file,\"annotateCenterOuput.png\")\n",
    "        annotate_center(img_path,stats,out_path)"
   ]
  }
 ],
 "metadata": {
  "kernelspec": {
   "display_name": "Python [conda env:766Env] *",
   "language": "python",
   "name": "conda-env-766Env-py"
  },
  "language_info": {
   "codemirror_mode": {
    "name": "ipython",
    "version": 3
   },
   "file_extension": ".py",
   "mimetype": "text/x-python",
   "name": "python",
   "nbconvert_exporter": "python",
   "pygments_lexer": "ipython3",
   "version": "3.11.0"
  }
 },
 "nbformat": 4,
 "nbformat_minor": 5
}
